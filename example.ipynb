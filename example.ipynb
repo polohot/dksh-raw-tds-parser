{
 "cells": [
  {
   "cell_type": "code",
   "execution_count": 15,
   "id": "2168565e",
   "metadata": {},
   "outputs": [
    {
     "name": "stderr",
     "output_type": "stream",
     "text": [
      "2025-08-25 09:30:42.006 WARNING streamlit.runtime.scriptrunner_utils.script_run_context: Thread 'MainThread': missing ScriptRunContext! This warning can be ignored when running in bare mode.\n"
     ]
    }
   ],
   "source": [
    "from fastapi import FastAPI, File, Form, UploadFile, HTTPException\n",
    "from typing import List, Annotated\n",
    "import asyncio\n",
    "import random\n",
    "import tempfile\n",
    "import shutil\n",
    "import os\n",
    "import fitz\n",
    "import io\n",
    "import base64\n",
    "import datetime\n",
    "from PIL import Image\n",
    "import urllib3\n",
    "urllib3.disable_warnings(urllib3.exceptions.InsecureRequestWarning)\n",
    "# Azure AI Document Intelligence\n",
    "from azure.core.credentials import AzureKeyCredential\n",
    "from azure.ai.documentintelligence import DocumentIntelligenceClient\n",
    "# Load environment variables\n",
    "from dotenv import load_dotenv\n",
    "load_dotenv()\n",
    "# Custom Utils\n",
    "from customutils import *"
   ]
  },
  {
   "cell_type": "code",
   "execution_count": null,
   "id": "720fdaf7",
   "metadata": {},
   "outputs": [
    {
     "name": "stdout",
     "output_type": "stream",
     "text": [
      "hasZ6CI3N0R15bJmsK3UYJDX8VunScundHHUR9Agu05E0q3H1yqSBXiEcmpUTM5U\n"
     ]
    }
   ],
   "source": [
    "import secrets\n",
    "import string\n",
    "\n",
    "chars = string.ascii_letters + string.digits\n",
    "password = ''.join(secrets.choice(chars) for _ in range(64))\n",
    "\n",
    "print(password)"
   ]
  },
  {
   "cell_type": "code",
   "execution_count": null,
   "id": "61a4c085",
   "metadata": {},
   "outputs": [],
   "source": [
    "#####################\n",
    "# USING LLAMA PARSE #\n",
    "#####################\n",
    "\n",
    "\n",
    "with open(fileinfo['serverPath'], 'rb') as f:\n",
    "    mime = 'application/pdf' if filename.endswith('.pdf') else 'application/vnd.openxmlformats-officedocument.spreadsheetml.sheet'\n",
    "    files = [('files', (filename, f, mime))]\n",
    "    data = {\"apikey\": os.getenv('LLAMA_CLOUD_API_KEY')}\n",
    "    response = requests.post(\n",
    "        \"https://ancient-almeda-personal-personal-22e19704.koyeb.app/llama_parse_batch\",\n",
    "        data=data,\n",
    "        files=files,\n",
    "        verify=False)\n",
    "    if response.status_code == 200:\n",
    "        file_dict[filename]['S1_PARSE']['status'] = '✅ Success'\n",
    "        file_dict[filename]['S1_PARSE']['result'] = response.json()['results']\n",
    "    else:\n",
    "        file_dict[filename]['S1_PARSE']['status'] = f'❌ Error: (HTTP {response.status_code})'"
   ]
  },
  {
   "cell_type": "code",
   "execution_count": 16,
   "id": "f8c0136c",
   "metadata": {},
   "outputs": [
    {
     "name": "stdout",
     "output_type": "stream",
     "text": [
      "Markdown Output:\n",
      "\n",
      "\n",
      "## Page 1\n",
      "\n",
      "Muntons\n",
      "Passionate about malt\n",
      "PRODUCT SPECIFICATION and NUTRITIONAL DATA\n",
      "ACTIMALT LIQUID REGULAR\n",
      "Description:\n",
      "A viscous liquid produced by enzyme assisted hot water extraction of barley and\n",
      "malted barley, followed by filtration and concentration under vacuum evaporation.\n",
      "Appearance:\n",
      "Odour:\n",
      "Yellow-brown syrup\n",
      "Pleasant with a characteristic cereal / malt odour\n",
      "Sweet with a characteristic cereal / malt flavour\n",
      "Ingredients:\n",
      "Barley, Malted Barley, Water\n",
      "Syrup Composition:\n",
      "Soluble extract of barley and malted barley\n",
      "Typically 77.1 - 79.6 %\n",
      "Typically 20.4 - 22.9 %\n",
      "Water\n",
      "Allergen Information:\n",
      "Contains Gluten: 2,570 mg/kg *\n",
      "*\n",
      "External analysis result - single random sample - Feb 2013 (for information only)\n",
      "Laboratory: Campden Technology Ltd\n",
      "Test Method: R-Biopharm RIDASCREEN Gliadin Competitive Immunoassay R7021\n",
      "Suggested Ingredient Declaration for\n",
      "Retail Product Labelling:\n",
      "Barley and Malt Extract\n",
      "Analytical Specification:\n",
      "Refractometric Solids %\n",
      "79.5 to 82\n",
      "pH (10% w/v solution)\n",
      "5 to 6\n",
      "Colour EBC (10% w/v solution)\n",
      "≤ 12\n",
      "Microbiological Specification:\n",
      "Total Plate Count/g\n",
      "≤ 10,000\n",
      "Yeasts/g\n",
      "≤ 100\n",
      "Moulds/g\n",
      "≤ 100\n",
      "Coliforms/g\n",
      "≤ 100\n",
      "Nutritional Information:\n",
      "Typical Values\n",
      "Per 100g\n",
      "Per 100g\n",
      "Energy Value\n",
      "300 - 320\n",
      "kcal\n",
      "Total Dietary Fibre\n",
      "1.5\n",
      "g\n",
      "1255 - 1340\n",
      "kJ\n",
      "Total Carbohydrate\n",
      "72 - 76\n",
      "g\n",
      "Water\n",
      "Protein (N x 6.25)\n",
      "2.5 - 4.0\n",
      "g\n",
      "Fat\n",
      "0.15\n",
      "g\n",
      "Of which sugars:\n",
      "Saturated Fatty Acids\n",
      "0.06\n",
      "g\n",
      "Fructose\n",
      "0.7 - 1.5\n",
      "g\n",
      "Monounsaturated Fatty Acids\n",
      "0.05\n",
      "g\n",
      "Glucose\n",
      "3 - 5\n",
      "g\n",
      "Polyunsaturated Fatty Acids\n",
      "0.03\n",
      "g\n",
      "Sucrose\n",
      "1 - 2\n",
      "g\n",
      "Ash\n",
      "1.0 - 1.5\n",
      "g\n",
      "Maltose\n",
      "30 - 40\n",
      "g\n",
      "Sodium\n",
      "23\n",
      "mg\n",
      "Maltotriose\n",
      "6 - 10\n",
      "g\n",
      "Nutritional values are for information only and do not indicate a specification parameter or a guarantee of composition.\n",
      "Issue:\n",
      "5\n",
      "Compiled by:\n",
      "S. Brown\n",
      "Date:\n",
      "29/04/2015\n",
      "Position:\n",
      "Technical Sales Support\n",
      "Reason for change:\n",
      "New logo\n",
      "Page 1 of 1\n",
      "Taste:\n",
      "20.4 - 22.9\n",
      "g\n",
      "Available Carbohydrate\n",
      "70 - 75\n",
      "g\n"
     ]
    },
    {
     "data": {
      "text/plain": [
       "'\\n## Page 1\\n\\nMuntons\\nPassionate about malt\\nPRODUCT SPECIFICATION and NUTRITIONAL DATA\\nACTIMALT LIQUID REGULAR\\nDescription:\\nA viscous liquid produced by enzyme assisted hot water extraction of barley and\\nmalted barley, followed by filtration and concentration under vacuum evaporation.\\nAppearance:\\nOdour:\\nYellow-brown syrup\\nPleasant with a characteristic cereal / malt odour\\nSweet with a characteristic cereal / malt flavour\\nIngredients:\\nBarley, Malted Barley, Water\\nSyrup Composition:\\nSoluble extract of barley and malted barley\\nTypically 77.1 - 79.6 %\\nTypically 20.4 - 22.9 %\\nWater\\nAllergen Information:\\nContains Gluten: 2,570 mg/kg *\\n*\\nExternal analysis result - single random sample - Feb 2013 (for information only)\\nLaboratory: Campden Technology Ltd\\nTest Method: R-Biopharm RIDASCREEN Gliadin Competitive Immunoassay R7021\\nSuggested Ingredient Declaration for\\nRetail Product Labelling:\\nBarley and Malt Extract\\nAnalytical Specification:\\nRefractometric Solids %\\n79.5 to 82\\npH (10% w/v solution)\\n5 to 6\\nColour EBC (10% w/v solution)\\n≤ 12\\nMicrobiological Specification:\\nTotal Plate Count/g\\n≤ 10,000\\nYeasts/g\\n≤ 100\\nMoulds/g\\n≤ 100\\nColiforms/g\\n≤ 100\\nNutritional Information:\\nTypical Values\\nPer 100g\\nPer 100g\\nEnergy Value\\n300 - 320\\nkcal\\nTotal Dietary Fibre\\n1.5\\ng\\n1255 - 1340\\nkJ\\nTotal Carbohydrate\\n72 - 76\\ng\\nWater\\nProtein (N x 6.25)\\n2.5 - 4.0\\ng\\nFat\\n0.15\\ng\\nOf which sugars:\\nSaturated Fatty Acids\\n0.06\\ng\\nFructose\\n0.7 - 1.5\\ng\\nMonounsaturated Fatty Acids\\n0.05\\ng\\nGlucose\\n3 - 5\\ng\\nPolyunsaturated Fatty Acids\\n0.03\\ng\\nSucrose\\n1 - 2\\ng\\nAsh\\n1.0 - 1.5\\ng\\nMaltose\\n30 - 40\\ng\\nSodium\\n23\\nmg\\nMaltotriose\\n6 - 10\\ng\\nNutritional values are for information only and do not indicate a specification parameter or a guarantee of composition.\\nIssue:\\n5\\nCompiled by:\\nS. Brown\\nDate:\\n29/04/2015\\nPosition:\\nTechnical Sales Support\\nReason for change:\\nNew logo\\nPage 1 of 1\\nTaste:\\n20.4 - 22.9\\ng\\nAvailable Carbohydrate\\n70 - 75\\ng'"
      ]
     },
     "execution_count": 16,
     "metadata": {},
     "output_type": "execute_result"
    }
   ],
   "source": [
    "####################################\n",
    "# AZURE DOCUMENT INTELLIGENCE TEST #\n",
    "####################################\n",
    "def azureDocumentIntelligenceParsePDF(file_path, key):\n",
    "    document_intelligence_client = DocumentIntelligenceClient(\n",
    "        endpoint=\"https://document-intelligence-standard-s0-dksh-raw-tds-parser.cognitiveservices.azure.com/\", credential=AzureKeyCredential(key))\n",
    "    with open(file_path, \"rb\") as f:\n",
    "        poller = document_intelligence_client.begin_analyze_document(\n",
    "            \"prebuilt-read\", \n",
    "            f,\n",
    "            content_type=\"application/pdf\")\n",
    "        result = poller.result()\n",
    "    # Build Markdown content from lines\n",
    "    markdown_lines = []\n",
    "    for page_num, page in enumerate(result.pages):\n",
    "        markdown_lines.append(f\"\\n## Page {page_num + 1}\\n\")\n",
    "        for line in page.lines:\n",
    "            markdown_lines.append(line.content)\n",
    "    markdown_output = \"\\n\".join(markdown_lines)\n",
    "    print(\"Markdown Output:\\n\")\n",
    "    print(markdown_output)\n",
    "    return markdown_output\n",
    "\n",
    "pdfPath = r\"C:\\Users\\khunakorn.l\\OneDrive - DKSH\\9999-99-99 GitRepo\\dksh-raw-tds-parser\\testFiles\\FBI\\PIM000003031-Actimalt Liquid Regular.pdf\"\n",
    "azureDocumentIntelligenceParsePDF(pdfPath, os.getenv('AZURE_DOCUMENT_INTELLIGENCE_API_KEY'))"
   ]
  },
  {
   "cell_type": "code",
   "execution_count": 18,
   "id": "2c9b536e",
   "metadata": {},
   "outputs": [
    {
     "name": "stdout",
     "output_type": "stream",
     "text": [
      "That’s wonderful! Paris is a beautiful city with so much to offer. Here are some must-see attractions and experiences:\n",
      "\n",
      "1. **Eiffel Tower** – The iconic symbol of Paris. Don’t miss going up for a breathtaking view of the city.\n",
      "2. **Louvre Museum** – Home to thousands of works of art, including the Mona Lisa and the Venus de Milo.\n",
      "3. **Notre-Dame Cathedral** – A masterpiece of Gothic architecture. Although it’s under restoration, the exterior and surrounding areas are worth a visit.\n",
      "4. **Champs-Élysées and Arc de Triomphe** – Stroll down this famous avenue and climb the Arc de Triomphe for another great view.\n",
      "5. **Montmartre and Sacré-Cœur** – Explore this artistic neighborhood and visit the stunning basilica on the hill.\n",
      "6. **Seine River Cruise** – See the city from a different perspective by taking a boat ride along the Seine, especially lovely at night.\n",
      "7. **Musée d’Orsay** – An impressive museum housed in a former railway station, featuring mainly Impressionist art.\n",
      "8. **Palace of Versailles** – Just outside Paris, it’s a lavish palace with magnificent gardens.\n",
      "9. **Le Marais District** – Trendy area with charming streets, shops, cafes, and museums.\n",
      "10. **Latin Quarter** – Known for its lively atmosphere, historic sites, and the Sorbonne University.\n",
      "\n",
      "Also, don’t forget to enjoy French cuisine at local cafes and bakeries, and simply take some time to sit at a terrace and soak in the Parisian ambiance.\n",
      "\n",
      "Would you like recommendations for restaurants, hotels, or specific types of activities?\n"
     ]
    }
   ],
   "source": [
    "#####################\n",
    "# AZURE OPENAI TEST #\n",
    "#####################\n",
    "import os\n",
    "import requests\n",
    "import json\n",
    "\n",
    "body = {\n",
    "    \"messages\": [\n",
    "        {\"role\": \"system\", \"content\": \"You are a helpful assistant.\"},\n",
    "        {\"role\": \"user\",   \"content\": \"I am going to Paris, what should I see?\"}\n",
    "    ],\n",
    "    \"max_tokens\": 4096,\n",
    "    \"temperature\": 1.0,\n",
    "    \"top_p\": 1.0\n",
    "}\n",
    "\n",
    "url = \"https://azure-ai-services-main01.cognitiveservices.azure.com/openai/deployments/azure-ai-services-main01-gpt-4o-main01/chat/completions?api-version=2024-12-01-preview\"\n",
    "url = \"https://azure-ai-services-main01.cognitiveservices.azure.com/openai/deployments/azure-ai-services-gpt-4.1-mini-dksh-raw-tds-parser/chat/completions?api-version=2025-01-01-preview\"\n",
    "headers = {\"Content-Type\": \"application/json\", \"api-key\": os.getenv(\"AZURE_OPENAI_KEY\")}\n",
    "response = requests.post(url, headers=headers, data=json.dumps(body))\n",
    "\n",
    "data = response.json()\n",
    "print(data[\"choices\"][0][\"message\"][\"content\"])"
   ]
  },
  {
   "cell_type": "code",
   "execution_count": 7,
   "id": "4fff7cd4",
   "metadata": {},
   "outputs": [
    {
     "name": "stderr",
     "output_type": "stream",
     "text": [
      "c:\\Users\\khunakorn.l\\AppData\\Local\\miniconda3\\envs\\py312-dksh-raw-tds-parser\\Lib\\site-packages\\urllib3\\connectionpool.py:1097: InsecureRequestWarning: Unverified HTTPS request is being made to host 'ancient-almeda-personal-personal-22e19704.koyeb.app'. Adding certificate verification is strongly advised. See: https://urllib3.readthedocs.io/en/latest/advanced-usage.html#tls-warnings\n",
      "  warnings.warn(\n"
     ]
    },
    {
     "data": {
      "text/plain": [
       "'The CAS number for CEDEPAL® TD-403 MFLD, a product from Stepan Company, is 25446-78-0. This product is also known by its INCI name, Sodium Trideceth Sulfate. ([knowde.com](https://www.knowde.com/stores/stepan-company/products/cedepal-td-403-mfld?utm_source=openai)) '"
      ]
     },
     "execution_count": 7,
     "metadata": {},
     "output_type": "execute_result"
    }
   ],
   "source": [
    "################\n",
    "# WEB - SEARCH #\n",
    "################\n",
    "\n",
    "question = 'What is the CAS number for product [CEDEPAL TD-403 MFLD] from manufacturer [Stepan Company]'\n",
    "search_context_size = 'high'\n",
    "body = {\"model\": \"gpt-4o-search-preview\",\n",
    "        'web_search_options': {'search_context_size': search_context_size},\n",
    "        \"messages\": [{'role': 'user', \n",
    "                        'content': question}],\n",
    "        \"max_tokens\": 4096}\n",
    "\n",
    "response = requests.post(\"https://ancient-almeda-personal-personal-22e19704.koyeb.app/openai\",                                         \n",
    "                        json=body, \n",
    "                        params={\"apikey\": os.getenv('OPENAI_API_KEY')},\n",
    "                        verify=False)\n",
    "\n",
    "\n",
    "response.json()['choices'][0]['message']['content']"
   ]
  },
  {
   "cell_type": "code",
   "execution_count": null,
   "id": "c8d9aca2",
   "metadata": {},
   "outputs": [
    {
     "name": "stderr",
     "output_type": "stream",
     "text": [
      "c:\\Users\\khunakorn.l\\AppData\\Local\\miniconda3\\envs\\py312-dksh-raw-tds-parser\\Lib\\site-packages\\urllib3\\connectionpool.py:1097: InsecureRequestWarning: Unverified HTTPS request is being made to host 'api.openai.com'. Adding certificate verification is strongly advised. See: https://urllib3.readthedocs.io/en/latest/advanced-usage.html#tls-warnings\n",
      "  warnings.warn(\n"
     ]
    }
   ],
   "source": [
    "######################\n",
    "# DEEP RESEARCH TEST #\n",
    "######################\n",
    "import os\n",
    "import requests\n",
    "import json\n",
    "\n",
    "input_text = \"\"\"\n",
    "Research about the APPLICATIONS of [CEDEPAL TD-403 MFLD] utilization in the [Personal Care] industries\n",
    "\"\"\"\n",
    "\n",
    "body = {\n",
    "    \"model\": \"o3-deep-research\",\n",
    "    \"input\": input_text,\n",
    "    \"tools\": [{\"type\": \"web_search_preview\"}],\n",
    "    # \"stream\": True\n",
    "}\n",
    "\n",
    "url = \"https://api.openai.com/v1/responses\"\n",
    "headers = {\"Authorization\": f\"Bearer {os.getenv(\"OPENAI_API_KEY\")}\", \"Content-Type\": \"application/json\"}\n",
    "response = requests.post(url, headers=headers, data=json.dumps(body), timeout=3600, verify=False, stream=True)\n",
    "# response = requests.post(url, headers=headers, data=json.dumps(body), timeout=3600, verify=False, stream=True)\n",
    "\n",
    "# # Iterate over the streaming lines\n",
    "# for line in response.iter_lines(decode_unicode=True):\n",
    "#     if line and line.startswith(\"data: \"):\n",
    "#         data_str = line[len(\"data: \"):]\n",
    "#         if data_str.strip() == \"[DONE]\":\n",
    "#             break\n",
    "#         chunk = json.loads(data_str)\n",
    "#         # The 'delta' field contains the incremental tokens\n",
    "#         delta = chunk[\"choices\"][0][\"delta\"]\n",
    "#         print(delta.get(\"content\", \"\"), end=\"\", flush=True)"
   ]
  },
  {
   "cell_type": "code",
   "execution_count": 1,
   "id": "1fc1e0fc",
   "metadata": {},
   "outputs": [
    {
     "name": "stdout",
     "output_type": "stream",
     "text": [
      "aa\n"
     ]
    }
   ],
   "source": [
    "print('aa')"
   ]
  }
 ],
 "metadata": {
  "kernelspec": {
   "display_name": "py312-dksh-raw-tds-parser",
   "language": "python",
   "name": "python3"
  },
  "language_info": {
   "codemirror_mode": {
    "name": "ipython",
    "version": 3
   },
   "file_extension": ".py",
   "mimetype": "text/x-python",
   "name": "python",
   "nbconvert_exporter": "python",
   "pygments_lexer": "ipython3",
   "version": "3.12.0"
  }
 },
 "nbformat": 4,
 "nbformat_minor": 5
}
